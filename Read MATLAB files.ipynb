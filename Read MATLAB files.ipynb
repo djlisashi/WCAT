{
 "cells": [
  {
   "cell_type": "code",
   "execution_count": 1,
   "metadata": {},
   "outputs": [],
   "source": [
    "import scipy\n",
    "import scipy.io as sio\n",
    "import os\n",
    "from pathlib import Path"
   ]
  },
  {
   "cell_type": "code",
   "execution_count": 4,
   "metadata": {},
   "outputs": [],
   "source": [
    "data_folder = 'B0042'"
   ]
  },
  {
   "cell_type": "code",
   "execution_count": 5,
   "metadata": {},
   "outputs": [],
   "source": [
    "directory = Path.cwd()"
   ]
  },
  {
   "cell_type": "markdown",
   "metadata": {},
   "source": [
    "Load the BoundingBox.mat file. Beware, not all folders have this file!"
   ]
  },
  {
   "cell_type": "code",
   "execution_count": 6,
   "metadata": {},
   "outputs": [],
   "source": [
    "bb_fname = directory.joinpath('data', 'chd_dataset', data_folder, 'BoundingBox.mat')"
   ]
  },
  {
   "cell_type": "code",
   "execution_count": 7,
   "metadata": {},
   "outputs": [
    {
     "data": {
      "text/plain": [
       "WindowsPath('F:/learn_2/WCAT/data/chd_dataset/B0042/BoundingBox.mat')"
      ]
     },
     "execution_count": 7,
     "metadata": {},
     "output_type": "execute_result"
    }
   ],
   "source": [
    "bb_fname"
   ]
  },
  {
   "cell_type": "code",
   "execution_count": 8,
   "metadata": {},
   "outputs": [],
   "source": [
    "bb_content = sio.loadmat(bb_fname)"
   ]
  },
  {
   "cell_type": "code",
   "execution_count": 9,
   "metadata": {},
   "outputs": [],
   "source": [
    "bounding_boxes = bb_content.get('bb')"
   ]
  },
  {
   "cell_type": "code",
   "execution_count": 10,
   "metadata": {},
   "outputs": [
    {
     "data": {
      "text/plain": [
       "array([[  1., 132., 363., 110., 314.],\n",
       "       [  2., 101., 343., 114., 311.],\n",
       "       [  3.,  72., 328.,  99., 305.],\n",
       "       [  4.,  90., 335.,  98., 303.],\n",
       "       [  5.,  99., 333.,  82., 287.],\n",
       "       [  6., 111., 350.,  87., 292.],\n",
       "       [  7., 123., 342.,  84., 289.],\n",
       "       [  8., 139., 336.,  91., 298.],\n",
       "       [  9., 167., 358.,  86., 292.],\n",
       "       [ 10., 161., 308.,  94., 300.],\n",
       "       [ 11., 169., 315.,  73., 285.],\n",
       "       [ 12.,  23., 176.,  81., 267.],\n",
       "       [ 13., 211., 294.,  91., 285.],\n",
       "       [ 14., 230., 353., 176., 376.],\n",
       "       [ 15., 257., 383., 183., 376.],\n",
       "       [ 16., 222., 379., 186., 394.],\n",
       "       [ 17., 214., 382., 206., 403.],\n",
       "       [ 18., 191., 371., 198., 395.],\n",
       "       [ 19., 133., 335., 198., 394.]])"
      ]
     },
     "execution_count": 10,
     "metadata": {},
     "output_type": "execute_result"
    }
   ],
   "source": [
    "bounding_boxes"
   ]
  },
  {
   "cell_type": "code",
   "execution_count": null,
   "metadata": {},
   "outputs": [],
   "source": []
  },
  {
   "cell_type": "code",
   "execution_count": null,
   "metadata": {},
   "outputs": [],
   "source": []
  }
 ],
 "metadata": {
  "kernelspec": {
   "display_name": "Python 3",
   "language": "python",
   "name": "python3"
  },
  "language_info": {
   "codemirror_mode": {
    "name": "ipython",
    "version": 3
   },
   "file_extension": ".py",
   "mimetype": "text/x-python",
   "name": "python",
   "nbconvert_exporter": "python",
   "pygments_lexer": "ipython3",
   "version": "3.6.5"
  }
 },
 "nbformat": 4,
 "nbformat_minor": 2
}
